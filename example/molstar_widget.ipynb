{
 "cells": [
  {
   "cell_type": "code",
   "execution_count": 14,
   "id": "ce8b7213",
   "metadata": {},
   "outputs": [],
   "source": [
    "import pymolstar"
   ]
  },
  {
   "cell_type": "code",
   "execution_count": 15,
   "id": "3a37b62a",
   "metadata": {},
   "outputs": [
    {
     "data": {
      "application/vnd.jupyter.widget-view+json": {
       "model_id": "e7da9792583b47e6b84b08888f63bc51",
       "version_major": 2,
       "version_minor": 0
      },
      "text/plain": [
       "viewer(value='7edd')"
      ]
     },
     "metadata": {},
     "output_type": "display_data"
    }
   ],
   "source": [
    "pymolstar.viewer(\"7edd\")"
   ]
  },
  {
   "cell_type": "code",
   "execution_count": 6,
   "id": "7d2d3d6a",
   "metadata": {},
   "outputs": [
    {
     "data": {
      "application/vnd.jupyter.widget-view+json": {
       "model_id": "59cb1c0e9b094b8797c1b1fe32d41291",
       "version_major": 2,
       "version_minor": 0
      },
      "text/plain": [
       "viewer(value='1pqr')"
      ]
     },
     "metadata": {},
     "output_type": "display_data"
    }
   ],
   "source": [
    "pymolstar.viewer(\"1pqr\")"
   ]
  },
  {
   "cell_type": "code",
   "execution_count": null,
   "id": "13f1a35a",
   "metadata": {},
   "outputs": [],
   "source": []
  }
 ],
 "metadata": {
  "kernelspec": {
   "display_name": "Python 3 (ipykernel)",
   "language": "python",
   "name": "python3"
  },
  "language_info": {
   "codemirror_mode": {
    "name": "ipython",
    "version": 3
   },
   "file_extension": ".py",
   "mimetype": "text/x-python",
   "name": "python",
   "nbconvert_exporter": "python",
   "pygments_lexer": "ipython3",
   "version": "3.9.9"
  }
 },
 "nbformat": 4,
 "nbformat_minor": 5
}
